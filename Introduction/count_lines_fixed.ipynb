{
 "cells": [
  {
   "cell_type": "code",
   "execution_count": 3,
   "metadata": {},
   "outputs": [
    {
     "name": "stdout",
     "output_type": "stream",
     "text": [
      "['Ereh Yeagurrr', 'Mikasa ', 'Armin ', 'Levi ', 'Hange!!! ']\n"
     ]
    }
   ],
   "source": [
    "f = open(\"C:/deets/1-1/Image and Video Processing/IVP Lab/image-and-video-processing/Introduction/birds.txt\",\"r\")\n",
    "data = f.read()\n",
    "f.close()\n",
    "lines = data.split(\"\\n\")\n",
    "for l in lines:\n",
    "    if not l:\n",
    "        lines.remove(l)\n",
    "print(lines)"
   ]
  }
 ],
 "metadata": {
  "interpreter": {
   "hash": "c279ca3389d3cd0bb36f0f6345591ef47c0632ea0233e249ce8144185409d886"
  },
  "kernelspec": {
   "display_name": "Python 3.8.10 64-bit",
   "language": "python",
   "name": "python3"
  },
  "language_info": {
   "codemirror_mode": {
    "name": "ipython",
    "version": 3
   },
   "file_extension": ".py",
   "mimetype": "text/x-python",
   "name": "python",
   "nbconvert_exporter": "python",
   "pygments_lexer": "ipython3",
   "version": "3.8.10"
  },
  "orig_nbformat": 4
 },
 "nbformat": 4,
 "nbformat_minor": 2
}
